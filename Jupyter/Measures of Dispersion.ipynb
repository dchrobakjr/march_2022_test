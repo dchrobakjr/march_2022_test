{
 "cells": [
  {
   "cell_type": "code",
   "execution_count": 1,
   "id": "d6267e3a",
   "metadata": {},
   "outputs": [],
   "source": [
    "import statistics as stats"
   ]
  },
  {
   "cell_type": "code",
   "execution_count": 6,
   "id": "e520549b",
   "metadata": {},
   "outputs": [
    {
     "data": {
      "text/plain": [
       "99"
      ]
     },
     "execution_count": 6,
     "metadata": {},
     "output_type": "execute_result"
    }
   ],
   "source": [
    "lst = [12, 23, 43, 19, 1, 33, 76 , 100]\n",
    "\n",
    "lst_range = max(lst) - min(lst)\n",
    "lst_range\n"
   ]
  },
  {
   "cell_type": "code",
   "execution_count": 4,
   "id": "447378e7",
   "metadata": {},
   "outputs": [],
   "source": [
    "lst = [12, 23, 43, 19, 1, 33, 76, 100, 12, 54, 56, 98, 32, 54, 87]"
   ]
  },
  {
   "cell_type": "code",
   "execution_count": 8,
   "id": "922aeb8c",
   "metadata": {},
   "outputs": [
    {
     "data": {
      "text/plain": [
       "1138.267857142857"
      ]
     },
     "execution_count": 8,
     "metadata": {},
     "output_type": "execute_result"
    }
   ],
   "source": [
    "stats.variance(lst)"
   ]
  },
  {
   "cell_type": "code",
   "execution_count": 9,
   "id": "b0349964",
   "metadata": {},
   "outputs": [
    {
     "data": {
      "text/plain": [
       "33.738225459304424"
      ]
     },
     "execution_count": 9,
     "metadata": {},
     "output_type": "execute_result"
    }
   ],
   "source": [
    "stats.stdev(lst)"
   ]
  },
  {
   "cell_type": "markdown",
   "id": "39b88419",
   "metadata": {},
   "source": [
    "# Exercise"
   ]
  },
  {
   "cell_type": "markdown",
   "id": "198fa551",
   "metadata": {},
   "source": [
    "1.1"
   ]
  },
  {
   "cell_type": "code",
   "execution_count": 10,
   "id": "1d439d6d",
   "metadata": {},
   "outputs": [],
   "source": [
    "import statistics as stats"
   ]
  },
  {
   "cell_type": "code",
   "execution_count": 11,
   "id": "84a6d145",
   "metadata": {},
   "outputs": [],
   "source": [
    "points = [-4, 17, 25, 19, 6, 11, 7]"
   ]
  },
  {
   "cell_type": "code",
   "execution_count": 12,
   "id": "6b980fa1",
   "metadata": {},
   "outputs": [
    {
     "data": {
      "text/plain": [
       "29"
      ]
     },
     "execution_count": 12,
     "metadata": {},
     "output_type": "execute_result"
    }
   ],
   "source": [
    "points_range = max(points) - min(points)\n",
    "points_range"
   ]
  },
  {
   "cell_type": "markdown",
   "id": "d8013fd0",
   "metadata": {},
   "source": [
    "1.2"
   ]
  },
  {
   "cell_type": "code",
   "execution_count": 19,
   "id": "b2def877",
   "metadata": {},
   "outputs": [
    {
     "data": {
      "text/plain": [
       "4.131182235954578"
      ]
     },
     "execution_count": 19,
     "metadata": {},
     "output_type": "execute_result"
    }
   ],
   "source": [
    "data = 2, 4, 7, 1, 6, 8\n",
    "data2 = 2, 4, 7, 1, 12, 8"
   ]
  },
  {
   "cell_type": "code",
   "execution_count": 36,
   "id": "5dd3968c",
   "metadata": {},
   "outputs": [
    {
     "data": {
      "text/plain": [
       "2.804757862395017"
      ]
     },
     "execution_count": 36,
     "metadata": {},
     "output_type": "execute_result"
    }
   ],
   "source": [
    "stats.stdev(data)"
   ]
  },
  {
   "cell_type": "code",
   "execution_count": 37,
   "id": "729f1d88",
   "metadata": {},
   "outputs": [
    {
     "data": {
      "text/plain": [
       "4.131182235954578"
      ]
     },
     "execution_count": 37,
     "metadata": {},
     "output_type": "execute_result"
    }
   ],
   "source": [
    "stats.stdev(data2)"
   ]
  },
  {
   "cell_type": "code",
   "execution_count": 69,
   "id": "11d8e694",
   "metadata": {},
   "outputs": [
    {
     "name": "stdout",
     "output_type": "stream",
     "text": [
      "It increases 1.3264243735595604\n"
     ]
    }
   ],
   "source": [
    "Difference = (stats.stdev(data2) - stats.stdev(data))\n",
    "print(\"It increases\", (Difference))"
   ]
  },
  {
   "cell_type": "markdown",
   "id": "8651518f",
   "metadata": {},
   "source": [
    "1.3 "
   ]
  },
  {
   "cell_type": "markdown",
   "id": "f638e37c",
   "metadata": {},
   "source": [
    "yes\n",
    "\n",
    "any number that is the same or has the same 'mean' as every other element in the data set"
   ]
  },
  {
   "cell_type": "code",
   "execution_count": 21,
   "id": "56208956",
   "metadata": {},
   "outputs": [
    {
     "data": {
      "text/plain": [
       "0.0"
      ]
     },
     "execution_count": 21,
     "metadata": {},
     "output_type": "execute_result"
    }
   ],
   "source": [
    "data = [0,0,0,0,0,0]\n",
    "stats.stdev(data)"
   ]
  },
  {
   "cell_type": "markdown",
   "id": "9eb9cf22",
   "metadata": {},
   "source": [
    "1.4"
   ]
  },
  {
   "cell_type": "markdown",
   "id": "7299f35e",
   "metadata": {},
   "source": [
    "What is meant by deviation is the difference between one mumber and the next in each data set. \"how far each number is away from one another\""
   ]
  },
  {
   "cell_type": "markdown",
   "id": "961fcf0a",
   "metadata": {},
   "source": [
    "1.5"
   ]
  },
  {
   "cell_type": "code",
   "execution_count": 2,
   "id": "03bbe465",
   "metadata": {},
   "outputs": [],
   "source": [
    "import statistics as stats"
   ]
  },
  {
   "cell_type": "code",
   "execution_count": 20,
   "id": "d0138f03",
   "metadata": {},
   "outputs": [
    {
     "name": "stdout",
     "output_type": "stream",
     "text": [
      "Deviation for item:  23 is:  -18.5\n",
      "Deviation for item:  12 is:  -29.5\n",
      "Deviation for item:  34 is:  -7.5\n",
      "Deviation for item:  65 is:  23.5\n",
      "Deviation for item:  34 is:  -7.5\n",
      "Deviation for item:  81 is:  39.5\n"
     ]
    }
   ],
   "source": [
    "data = [23, 12, 34, 65, 34, 81]\n",
    "\n",
    "for item in data:\n",
    "    print (\"Deviation for item: \", item, \"is: \", item - stats.mean(data))\n",
    "    "
   ]
  },
  {
   "cell_type": "markdown",
   "id": "34d5336a",
   "metadata": {},
   "source": [
    "1.6"
   ]
  },
  {
   "cell_type": "markdown",
   "id": "e847c3bc",
   "metadata": {},
   "source": [
    "Standard deviation is the square of the unit of the orginial data where as standard deviation is the same as the unit of the orginal data."
   ]
  }
 ],
 "metadata": {
  "kernelspec": {
   "display_name": "Python 3 (ipykernel)",
   "language": "python",
   "name": "python3"
  },
  "language_info": {
   "codemirror_mode": {
    "name": "ipython",
    "version": 3
   },
   "file_extension": ".py",
   "mimetype": "text/x-python",
   "name": "python",
   "nbconvert_exporter": "python",
   "pygments_lexer": "ipython3",
   "version": "3.9.7"
  }
 },
 "nbformat": 4,
 "nbformat_minor": 5
}
