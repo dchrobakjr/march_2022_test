{
 "cells": [
  {
   "cell_type": "code",
   "execution_count": 1,
   "id": "2fff4bd5",
   "metadata": {},
   "outputs": [],
   "source": [
    "import statistics as stats"
   ]
  },
  {
   "cell_type": "code",
   "execution_count": 2,
   "id": "acc408cb",
   "metadata": {},
   "outputs": [],
   "source": [
    "import numpy as np"
   ]
  },
  {
   "cell_type": "code",
   "execution_count": null,
   "id": "7a36df49",
   "metadata": {},
   "outputs": [],
   "source": [
    "well_height = 125\n",
    "daily_climb = [30, 21, 33, 77, 44, 45, 23, 45, 12, 34, 55]\n",
    "nightly_fall = 20\n",
    "total_distance = 0\n",
    "total_days = 0\n",
    "is_morning = True\n",
    "\n",
    "while (total_distance < well_height):\n",
    "    if (is_morning):\n",
    "        total_distance += daily_climb\n",
    "        is_morning = False\n",
    "        total_days += 1\n",
    "    else:\n",
    "        total_distance -= nightly_fall\n",
    "        is_morning = True\n",
    "        \n",
    "print('Days =', total_days)"
   ]
  },
  {
   "cell_type": "code",
   "execution_count": 4,
   "id": "6d9c38f5",
   "metadata": {},
   "outputs": [],
   "source": [
    "def escape():\n",
    "    daily_climb = [30, 21, 33, 77, 44, 45, 23, 45, 12, 34, 55]\n",
    "    day = True\n",
    "    days = 0\n",
    "    distance_climbed =0\n",
    "    i = 0\n",
    "    well_height = 125\n",
    "    nightly_fall = 20\n",
    "    while ( distance_climbed <= well_height ):\n",
    "        if ( day == True ):\n",
    "            distance_climbed += daily_climb[i]\n",
    "            day = False\n",
    "            i += 1\n",
    "        else:\n",
    "            distance_climbed -= nightly_fall\n",
    "            day = True\n",
    "            days += 1\n",
    "    return days"
   ]
  },
  {
   "cell_type": "code",
   "execution_count": 5,
   "id": "6e236efe",
   "metadata": {},
   "outputs": [
    {
     "data": {
      "text/plain": [
       "5"
      ]
     },
     "execution_count": 5,
     "metadata": {},
     "output_type": "execute_result"
    }
   ],
   "source": [
    "escape()"
   ]
  },
  {
   "cell_type": "code",
   "execution_count": 51,
   "id": "ebe8b40e",
   "metadata": {},
   "outputs": [],
   "source": [
    " def max_displacement():\n",
    "        daily_climb = [30, 21, 33, 77, 44, 45, 23, 45, 12, 34, 55]\n",
    "        tot_disp = []\n",
    "        nightly_fall = 20\n",
    "        for i in range (len(daily_climb)):\n",
    "            tot_disp.append(daily_climb[i] - nightly_fall)\n",
    "        max_displ = max(tot_disp[:5])\n",
    "        return max_displ"
   ]
  },
  {
   "cell_type": "code",
   "execution_count": 52,
   "id": "b7e624e3",
   "metadata": {},
   "outputs": [
    {
     "data": {
      "text/plain": [
       "57"
      ]
     },
     "execution_count": 52,
     "metadata": {},
     "output_type": "execute_result"
    }
   ],
   "source": [
    "max_displacement()"
   ]
  },
  {
   "cell_type": "code",
   "execution_count": 47,
   "id": "0d7962e6",
   "metadata": {},
   "outputs": [
    {
     "ename": "NameError",
     "evalue": "name 'tot_disp' is not defined",
     "output_type": "error",
     "traceback": [
      "\u001b[0;31m---------------------------------------------------------------------------\u001b[0m",
      "\u001b[0;31mNameError\u001b[0m                                 Traceback (most recent call last)",
      "\u001b[0;32m/var/folders/dd/syvd8vw17d90rfnw5153l64r0000gn/T/ipykernel_9472/747809413.py\u001b[0m in \u001b[0;36m<module>\u001b[0;34m\u001b[0m\n\u001b[0;32m----> 1\u001b[0;31m \u001b[0mtot_disp\u001b[0m\u001b[0;34m\u001b[0m\u001b[0;34m\u001b[0m\u001b[0m\n\u001b[0m",
      "\u001b[0;31mNameError\u001b[0m: name 'tot_disp' is not defined"
     ]
    }
   ],
   "source": []
  },
  {
   "cell_type": "code",
   "execution_count": 20,
   "id": "04dc345f",
   "metadata": {},
   "outputs": [],
   "source": [
    "def min_displacement():\n",
    "    daily_climb = [30, 21, 33, 77, 44, 45, 23, 45, 12, 34, 55]\n",
    "    tot_disp = []\n",
    "    nightly_fall = 20\n",
    "    for i in range (len(daily_climb)):\n",
    "        tot_disp.append(daily_climb[i] - nightly_fall)\n",
    "    min_displ = min(tot_disp[:5])\n",
    "    return min_displ\n",
    "        \n",
    "        "
   ]
  },
  {
   "cell_type": "code",
   "execution_count": 22,
   "id": "2f7a3539",
   "metadata": {},
   "outputs": [
    {
     "data": {
      "text/plain": [
       "1"
      ]
     },
     "execution_count": 22,
     "metadata": {},
     "output_type": "execute_result"
    }
   ],
   "source": [
    "min_displacement()"
   ]
  },
  {
   "cell_type": "code",
   "execution_count": 29,
   "id": "7fa43fde",
   "metadata": {},
   "outputs": [],
   "source": [
    "def avg_speed():\n",
    "    daily_climb = [30, 21, 33, 77, 44, 45, 23, 45, 12, 34, 55]\n",
    "    total_sum = 0\n",
    "    nightly_fall = 20\n",
    "    for i in range(5):\n",
    "        total_sum += daily_climb[i] - nightly_fall\n",
    "    avg_sp = round(total_sum / 5.,1)\n",
    "    return avg_sp"
   ]
  },
  {
   "cell_type": "code",
   "execution_count": 30,
   "id": "d7a91cf2",
   "metadata": {},
   "outputs": [
    {
     "data": {
      "text/plain": [
       "21.0"
      ]
     },
     "execution_count": 30,
     "metadata": {},
     "output_type": "execute_result"
    }
   ],
   "source": [
    "avg_speed()"
   ]
  },
  {
   "cell_type": "code",
   "execution_count": 38,
   "id": "0a1c4bdf",
   "metadata": {},
   "outputs": [],
   "source": [
    "def standard_deviation():\n",
    "    daily_climb = [30, 21, 33, 77, 44, 45, 23, 45, 12, 34, 55]\n",
    "    tot_disp = []\n",
    "    nightly_fall = 20\n",
    "    for i in range(len(daily_climb)):\n",
    "        tot_disp.append(daily_climb[i] - nightly_fall)\n",
    "    import numpy as np\n",
    "    \n",
    "    std_dev = np.std(tot_disp[:5])\n",
    "    std_dev = round(std_dev,2)\n",
    "    \n",
    "    return std_dev\n",
    "    \n",
    "    "
   ]
  },
  {
   "cell_type": "code",
   "execution_count": 39,
   "id": "194a5c46",
   "metadata": {},
   "outputs": [
    {
     "data": {
      "text/plain": [
       "19.44"
      ]
     },
     "execution_count": 39,
     "metadata": {},
     "output_type": "execute_result"
    }
   ],
   "source": [
    "standard_deviation()"
   ]
  },
  {
   "cell_type": "code",
   "execution_count": 40,
   "id": "556e9a93",
   "metadata": {},
   "outputs": [
    {
     "ename": "NameError",
     "evalue": "name 'daily_climb' is not defined",
     "output_type": "error",
     "traceback": [
      "\u001b[0;31m---------------------------------------------------------------------------\u001b[0m",
      "\u001b[0;31mNameError\u001b[0m                                 Traceback (most recent call last)",
      "\u001b[0;32m/var/folders/dd/syvd8vw17d90rfnw5153l64r0000gn/T/ipykernel_9472/1799871688.py\u001b[0m in \u001b[0;36m<module>\u001b[0;34m\u001b[0m\n\u001b[0;32m----> 1\u001b[0;31m \u001b[0mprint\u001b[0m\u001b[0;34m(\u001b[0m\u001b[0mdaily_climb\u001b[0m\u001b[0;34m)\u001b[0m\u001b[0;34m\u001b[0m\u001b[0;34m\u001b[0m\u001b[0m\n\u001b[0m",
      "\u001b[0;31mNameError\u001b[0m: name 'daily_climb' is not defined"
     ]
    }
   ],
   "source": []
  },
  {
   "cell_type": "code",
   "execution_count": null,
   "id": "c3f3a267",
   "metadata": {},
   "outputs": [],
   "source": []
  }
 ],
 "metadata": {
  "kernelspec": {
   "display_name": "Python 3 (ipykernel)",
   "language": "python",
   "name": "python3"
  },
  "language_info": {
   "codemirror_mode": {
    "name": "ipython",
    "version": 3
   },
   "file_extension": ".py",
   "mimetype": "text/x-python",
   "name": "python",
   "nbconvert_exporter": "python",
   "pygments_lexer": "ipython3",
   "version": "3.9.7"
  }
 },
 "nbformat": 4,
 "nbformat_minor": 5
}
