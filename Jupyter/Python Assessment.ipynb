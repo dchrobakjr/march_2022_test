{
 "cells": [
  {
   "cell_type": "code",
   "execution_count": 3,
   "id": "4a088d68",
   "metadata": {},
   "outputs": [],
   "source": [
    "\n",
    "def battle():\n",
    "    power = {'Fireball': 50, \n",
    "    'Lightning bolt': 40, \n",
    "    'Magic arrow': 10, \n",
    "    'Black Tentacles': 25, \n",
    "    'Contagion': 45}\n",
    "    gandalf = ['Fireball', 'Lightning bolt', 'Lightning bolt', 'Magic arrow', 'Fireball', 'Magic arrow', 'Lightning bolt', 'Fireball', 'Fireball', 'Fireball']\n",
    "    saruman = ['Contagion', 'Contagion', 'Black Tentacles', 'Fireball', 'Black Tentacles', 'Lightning bolt', 'Magic arrow', 'Contagion', 'Magic arrow', 'Magic arrow']\n",
    "    gandalf_wins = 0\n",
    "    saruman_wins = 0\n",
    "    for i in range (len(gandalf)):\n",
    "        if ( power[gandalf[i]] > power[saruman[i]] ):\n",
    "            gandalf_wins += 1\n",
    "            saruman_wins = 0\n",
    "        elif ( power[gandalf[i]] < power[saruman[i]] ):\n",
    "            saruman_wins += 1\n",
    "            gandalf_wins = 0\n",
    "        else: \n",
    "            gandalf_wins = 0\n",
    "            saruman_wins = 0\n",
    "        if ( ( gandalf_wins == 3 ) or ( saruman_wins == 3 ) ):\n",
    "            break\n",
    "    if ( gandalf_wins == 3 ):\n",
    "        return \"Gandalf\"\n",
    "    elif ( saruman_wins == 3):\n",
    "        return \"Saruman\"\n",
    "    else:\n",
    "        return \"Tie\""
   ]
  },
  {
   "cell_type": "code",
   "execution_count": 4,
   "id": "9c2dca8c",
   "metadata": {},
   "outputs": [
    {
     "data": {
      "text/plain": [
       "'Gandalf'"
      ]
     },
     "execution_count": 4,
     "metadata": {},
     "output_type": "execute_result"
    }
   ],
   "source": [
    "battle()"
   ]
  },
  {
   "cell_type": "code",
   "execution_count": 5,
   "id": "e085632d",
   "metadata": {},
   "outputs": [],
   "source": [
    "def avg_spell():\n",
    "    power = {'Fireball': 50, \n",
    "    'Lightning bolt': 40, \n",
    "    'Magic arrow': 10, \n",
    "    'Black Tentacles': 25, \n",
    "    'Contagion': 45}\n",
    "    gandalf = ['Fireball', 'Lightning bolt', 'Lightning bolt', 'Magic arrow', 'Fireball', 'Magic arrow', 'Lightning bolt', 'Fireball', 'Fireball', 'Fireball']\n",
    "    saruman = ['Contagion', 'Contagion', 'Black Tentacles', 'Fireball', 'Black Tentacles', 'Lightning bolt', 'Magic arrow', 'Contagion', 'Magic arrow', 'Magic arrow']\n",
    "    import numpy as np\n",
    "    scores = []\n",
    "    for i in range(len(gandalf)):\n",
    "        scores.append(power[gandalf[i]])\n",
    "        average = np.mean(scores)\n",
    "        average = round(average,1)\n",
    "        return average"
   ]
  },
  {
   "cell_type": "code",
   "execution_count": 6,
   "id": "2410737a",
   "metadata": {},
   "outputs": [
    {
     "data": {
      "text/plain": [
       "50.0"
      ]
     },
     "execution_count": 6,
     "metadata": {},
     "output_type": "execute_result"
    }
   ],
   "source": [
    "avg_spell()"
   ]
  },
  {
   "cell_type": "code",
   "execution_count": 7,
   "id": "c2b73403",
   "metadata": {},
   "outputs": [],
   "source": [
    "def stdev_spells():\n",
    "    import numpy as np\n",
    "    power = {'Fireball': 50, 'Lightning bolt': 40, 'Magic arrow': 10, 'Black Tentacles': 25, 'Contagion': 45}\n",
    "    gandalf = ['Fireball', 'Lightning bolt', 'Lightning bolt', 'Magic arrow', 'Fireball', 'Magic arrow', 'Lightning bolt', 'Fireball', 'Fireball', 'Fireball']\n",
    "    saruman = ['Contagion', 'Contagion', 'Black Tentacles', 'Fireball', 'Black Tentacles', 'Lightning bolt', 'Magic arrow', 'Contagion', 'Magic arrow', 'Magic arrow']\n",
    "    scores = []\n",
    "    for i in range(len(gandalf)):\n",
    "        scores.append(power[gandalf[i]])\n",
    "    std = np.std(scores)\n",
    "    std = round(std,1)\n",
    "    return std"
   ]
  },
  {
   "cell_type": "code",
   "execution_count": 8,
   "id": "74efc79c",
   "metadata": {},
   "outputs": [
    {
     "data": {
      "text/plain": [
       "15.1"
      ]
     },
     "execution_count": 8,
     "metadata": {},
     "output_type": "execute_result"
    }
   ],
   "source": [
    "stdev_spells()"
   ]
  },
  {
   "cell_type": "code",
   "execution_count": null,
   "id": "da9d372d",
   "metadata": {},
   "outputs": [],
   "source": []
  }
 ],
 "metadata": {
  "kernelspec": {
   "display_name": "Python 3 (ipykernel)",
   "language": "python",
   "name": "python3"
  },
  "language_info": {
   "codemirror_mode": {
    "name": "ipython",
    "version": 3
   },
   "file_extension": ".py",
   "mimetype": "text/x-python",
   "name": "python",
   "nbconvert_exporter": "python",
   "pygments_lexer": "ipython3",
   "version": "3.9.7"
  }
 },
 "nbformat": 4,
 "nbformat_minor": 5
}
