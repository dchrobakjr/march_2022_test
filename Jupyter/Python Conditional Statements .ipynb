{
 "cells": [
  {
   "cell_type": "code",
   "execution_count": 3,
   "id": "ef8c1f2b",
   "metadata": {},
   "outputs": [
    {
     "name": "stdout",
     "output_type": "stream",
     "text": [
      "b is greater\n"
     ]
    }
   ],
   "source": [
    "a = 2\n",
    "b = 5 \n",
    "if a > b:\n",
    "    print('an is greater')\n",
    "else:\n",
    "    print('b is greater')"
   ]
  },
  {
   "cell_type": "code",
   "execution_count": 6,
   "id": "497ac6a1",
   "metadata": {},
   "outputs": [
    {
     "name": "stdout",
     "output_type": "stream",
     "text": [
      "b is greater\n",
      "Done\n"
     ]
    }
   ],
   "source": [
    "a = 2\n",
    "b = 5\n",
    "if a > b:\n",
    "    print('a is greater')\n",
    "else:\n",
    "    print('b is greater')\n",
    "print(\"Done\")"
   ]
  },
  {
   "cell_type": "code",
   "execution_count": 7,
   "id": "3f1fdb86",
   "metadata": {},
   "outputs": [
    {
     "name": "stdout",
     "output_type": "stream",
     "text": [
      "a is grearter\n"
     ]
    }
   ],
   "source": [
    "a = 5\n",
    "b = 2\n",
    "if a>b:\n",
    "    print('a is grearter')\n",
    "elif b>a:\n",
    "    print('b is greater')\n",
    "else:\n",
    "    print('they both are equal')"
   ]
  },
  {
   "cell_type": "code",
   "execution_count": 8,
   "id": "15cabe4a",
   "metadata": {},
   "outputs": [
    {
     "name": "stdout",
     "output_type": "stream",
     "text": [
      "a is greater\n",
      "Value of a is 5\n",
      "And value of b is 2\n"
     ]
    }
   ],
   "source": [
    "a = 5\n",
    "b = 2\n",
    "if a>b:\n",
    "    print('a is greater')\n",
    "    print('Value of a is',a)\n",
    "    print('And value of b is',b)\n",
    "    \n",
    "elif b>a:\n",
    "    print('b is greater')\n",
    "    print('Value of a is',a)\n",
    "    print('And value of b is',b)\n",
    "else:\n",
    "    print('they both are equal')"
   ]
  },
  {
   "cell_type": "code",
   "execution_count": 9,
   "id": "ce33316f",
   "metadata": {},
   "outputs": [
    {
     "name": "stdout",
     "output_type": "stream",
     "text": [
      "b is greater\n",
      "Value of a is 10\n",
      "And value of b is 50\n"
     ]
    }
   ],
   "source": [
    "a = 10\n",
    "b = 50\n",
    "if a>b:\n",
    "    print('a is greater')\n",
    "    print('Value of a is',a)\n",
    "    print('And value of b is',b)\n",
    "elif b>a:\n",
    "    print('b is greater')\n",
    "    print('Value of a is',a)\n",
    "    print('And value of b is',b)\n",
    "else:\n",
    "    print('they are both equal')\n",
    "    "
   ]
  },
  {
   "cell_type": "code",
   "execution_count": 10,
   "id": "c6fc54ed",
   "metadata": {},
   "outputs": [
    {
     "name": "stdout",
     "output_type": "stream",
     "text": [
      "they are both equal\n"
     ]
    }
   ],
   "source": [
    "a = 15\n",
    "b = 15\n",
    "if a>b:\n",
    "    print('a is greater')\n",
    "    print('Value of a is',a)\n",
    "    print('And value of b is',b)\n",
    "elif b>a:\n",
    "    print('b is greater')\n",
    "    print('Value of a is',a)\n",
    "    print('And value of b is',b)\n",
    "else:\n",
    "    print('they are both equal')"
   ]
  },
  {
   "cell_type": "code",
   "execution_count": 11,
   "id": "9bab9a9d",
   "metadata": {},
   "outputs": [
    {
     "name": "stdout",
     "output_type": "stream",
     "text": [
      "c is the greatest\n"
     ]
    }
   ],
   "source": [
    "a = 5\n",
    "b = 10\n",
    "c = 20\n",
    "if a>b and a>c:\n",
    "    print('a is the greatest')\n",
    "elif b>a and b>c:\n",
    "    print('b is the greatest')\n",
    "elif c>a and c>b:\n",
    "    print('c is the greatest')\n",
    "else:\n",
    "    print('There is a tie somewhere')"
   ]
  },
  {
   "cell_type": "code",
   "execution_count": 19,
   "id": "7fecab50",
   "metadata": {},
   "outputs": [
    {
     "name": "stdout",
     "output_type": "stream",
     "text": [
      "b is greater\n"
     ]
    }
   ],
   "source": [
    "a = 10\n",
    "b = 20\n",
    "    \n",
    "if a!=b:\n",
    "    if a>b:\n",
    "        print(\"a is greater\")\n",
    "    else:\n",
    "        print(\"b is greater\")\n",
    "else:\n",
    "    print(\"a and b are equal\")"
   ]
  },
  {
   "cell_type": "code",
   "execution_count": 20,
   "id": "797111cf",
   "metadata": {},
   "outputs": [
    {
     "name": "stdout",
     "output_type": "stream",
     "text": [
      "Please enter value for a:1\n",
      "Please enter value for b:2\n",
      "b is greater\n"
     ]
    }
   ],
   "source": [
    "a = int(input(\"Please enter value for a:\"))\n",
    "b = int(input(\"Please enter value for b:\"))\n",
    "\n",
    "if a!=b:\n",
    "    if a>b:\n",
    "        print(\"a is greater\")\n",
    "    else:\n",
    "        print(\"b is greater\")\n",
    "else:\n",
    "    print(\" a and b are equal\")"
   ]
  },
  {
   "cell_type": "code",
   "execution_count": 29,
   "id": "99ea793e",
   "metadata": {},
   "outputs": [
    {
     "name": "stdout",
     "output_type": "stream",
     "text": [
      "Enter a number: 1\n",
      "Enter the second number: 2\n",
      "b is greater\n"
     ]
    }
   ],
   "source": [
    "a = input(\"Enter a number: \")\n",
    "b = input(\"Enter the second number: \")\n",
    "\n",
    "if a.replace('.','',1).isdigit() and b.replace('.','',1).isdigit():\n",
    "                                            \n",
    "    a = float(a)\n",
    "    b = float(b)\n",
    "    \n",
    "    if a!=b:\n",
    "        if a > b:\n",
    "            print('a is greater')\n",
    "        else:\n",
    "            print('b is greater')\n",
    "    else:\n",
    "        print(\"a and b are equal\")\n",
    "else:\n",
    "    print(\"Intergers were not entered\")"
   ]
  },
  {
   "cell_type": "markdown",
   "id": "fb5912c9",
   "metadata": {},
   "source": [
    "# Excersises"
   ]
  },
  {
   "cell_type": "markdown",
   "id": "2125e983",
   "metadata": {},
   "source": [
    "# 1.1"
   ]
  },
  {
   "cell_type": "code",
   "execution_count": 3,
   "id": "6a275eac",
   "metadata": {},
   "outputs": [
    {
     "name": "stdout",
     "output_type": "stream",
     "text": [
      "Enter a number: 2\n",
      "is Even\n"
     ]
    }
   ],
   "source": [
    "a = int(input(\"Enter a number: \"))\n",
    "\n",
    "if (a % 2) == 0:\n",
    "    print(\"is Even\")\n",
    "else:\n",
    "    print('is odd')"
   ]
  },
  {
   "cell_type": "markdown",
   "id": "a0de7eb7",
   "metadata": {},
   "source": [
    "# 1.2"
   ]
  },
  {
   "cell_type": "code",
   "execution_count": 10,
   "id": "51ff79b0",
   "metadata": {},
   "outputs": [
    {
     "name": "stdout",
     "output_type": "stream",
     "text": [
      "Enter a number: 0\n",
      "a is equal to 0\n"
     ]
    }
   ],
   "source": [
    "a = int(input(\"Enter a number: \"))\n",
    "\n",
    "if a!=0:\n",
    "    if a > 0:\n",
    "        print(\"a is positive\")\n",
    "    else:\n",
    "        print(\"a is negative\")\n",
    "else:\n",
    "    print('a is equal to 0')"
   ]
  },
  {
   "cell_type": "markdown",
   "id": "c33ebc65",
   "metadata": {},
   "source": [
    "# 1.3"
   ]
  },
  {
   "cell_type": "code",
   "execution_count": 1,
   "id": "257707db",
   "metadata": {},
   "outputs": [
    {
     "name": "stdout",
     "output_type": "stream",
     "text": [
      "Enter grade here: 75\n",
      "C\n"
     ]
    }
   ],
   "source": [
    "grade = int(input(\"Enter grade here: \"))\n",
    "\n",
    "if grade<25:\n",
    "    print('F')\n",
    "elif grade>=25 and grade<=45:\n",
    "    print('E')\n",
    "elif grade>=45 and grade<=60:\n",
    "    print('D')\n",
    "elif grade>=60 and grade<=75:\n",
    "    print('C')\n",
    "elif grade>=75 and grade<=90:\n",
    "    print('B')\n",
    "elif grade>=90:\n",
    "    print('A')"
   ]
  },
  {
   "cell_type": "code",
   "execution_count": 6,
   "id": "b1a22206",
   "metadata": {},
   "outputs": [
    {
     "name": "stdout",
     "output_type": "stream",
     "text": [
      "Please enter an interger: t\n",
      "Input was not an interger\n"
     ]
    }
   ],
   "source": [
    "a = input(\"Please enter an interger: \")\n",
    "\n",
    "if a.isdigit():\n",
    "    a = int(a)\n",
    "    \n",
    "    if a == 0:\n",
    "        print('a is zero')\n",
    "    elif a%2 ==0:\n",
    "        print('a is even')\n",
    "    else: \n",
    "        print('a is not even')\n",
    "else:\n",
    "    print(\"Input was not an interger\")"
   ]
  },
  {
   "cell_type": "code",
   "execution_count": null,
   "id": "b41ae555",
   "metadata": {},
   "outputs": [],
   "source": []
  }
 ],
 "metadata": {
  "kernelspec": {
   "display_name": "Python 3 (ipykernel)",
   "language": "python",
   "name": "python3"
  },
  "language_info": {
   "codemirror_mode": {
    "name": "ipython",
    "version": 3
   },
   "file_extension": ".py",
   "mimetype": "text/x-python",
   "name": "python",
   "nbconvert_exporter": "python",
   "pygments_lexer": "ipython3",
   "version": "3.9.7"
  }
 },
 "nbformat": 4,
 "nbformat_minor": 5
}
