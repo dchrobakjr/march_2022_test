{
 "cells": [
  {
   "cell_type": "code",
   "execution_count": 1,
   "id": "988f19d2",
   "metadata": {},
   "outputs": [],
   "source": [
    "def functioname( parameters ):\n",
    "    \"functions_docstring\""
   ]
  },
  {
   "cell_type": "code",
   "execution_count": 6,
   "id": "0f7a51a7",
   "metadata": {},
   "outputs": [],
   "source": [
    "def function1(x):\n",
    "    return 5 * x"
   ]
  },
  {
   "cell_type": "code",
   "execution_count": 7,
   "id": "a879ca63",
   "metadata": {},
   "outputs": [],
   "source": []
  },
  {
   "cell_type": "code",
   "execution_count": 8,
   "id": "19096454",
   "metadata": {},
   "outputs": [
    {
     "name": "stdout",
     "output_type": "stream",
     "text": [
      "10\n"
     ]
    }
   ],
   "source": [
    "print(a)"
   ]
  },
  {
   "cell_type": "code",
   "execution_count": 9,
   "id": "89691815",
   "metadata": {},
   "outputs": [],
   "source": [
    "b = function1(1)"
   ]
  },
  {
   "cell_type": "code",
   "execution_count": 10,
   "id": "93f2b79c",
   "metadata": {},
   "outputs": [
    {
     "name": "stdout",
     "output_type": "stream",
     "text": [
      "5\n"
     ]
    }
   ],
   "source": [
    "print(b)"
   ]
  },
  {
   "cell_type": "code",
   "execution_count": 11,
   "id": "86302b0c",
   "metadata": {},
   "outputs": [
    {
     "name": "stdout",
     "output_type": "stream",
     "text": [
      "15\n"
     ]
    }
   ],
   "source": [
    "print(a + b)"
   ]
  },
  {
   "cell_type": "code",
   "execution_count": 1,
   "id": "47842d4b",
   "metadata": {},
   "outputs": [],
   "source": [
    "def function2(x, y):\n",
    "    return x + y"
   ]
  },
  {
   "cell_type": "code",
   "execution_count": 13,
   "id": "37be338e",
   "metadata": {},
   "outputs": [
    {
     "name": "stdout",
     "output_type": "stream",
     "text": [
      "5\n"
     ]
    }
   ],
   "source": [
    "c = function2(2,3)\n",
    "print(c)"
   ]
  },
  {
   "cell_type": "markdown",
   "id": "87532269",
   "metadata": {},
   "source": [
    "# Exercise"
   ]
  },
  {
   "cell_type": "code",
   "execution_count": 7,
   "id": "e4909fa3",
   "metadata": {},
   "outputs": [],
   "source": [
    "def generation_calculator(name, birth_year):\n",
    "    generation = birth_year\n",
    "    print (\"Generation\")\n",
    "    print (generation)\n",
    "    if generation < 1949:\n",
    "        return name + \" is silent generation\"\n",
    "    if generation < 1969:\n",
    "        return name + \" baby boomer\"\n",
    "    if generation < 1981:\n",
    "        return name + \" generation x\"\n",
    "    if generation < 1994:\n",
    "        return name + \" millenial\"\n",
    "    else:\n",
    "        return name + \" generation x\"\n",
    "        "
   ]
  },
  {
   "cell_type": "code",
   "execution_count": 8,
   "id": "d597155a",
   "metadata": {},
   "outputs": [],
   "source": [
    "# Generation What?\n",
    "\n",
    "name1 = \"Jonh\"\n",
    "birth_year1 = 1989\n",
    "\n",
    "name2 = \"Mari\"\n",
    "birth_year2 = 1995\n",
    "\n",
    "name3 = \"Mich\"\n",
    "birth_year3 = 1960"
   ]
  },
  {
   "cell_type": "code",
   "execution_count": 11,
   "id": "8f199482",
   "metadata": {},
   "outputs": [
    {
     "name": "stdout",
     "output_type": "stream",
     "text": [
      "Generation\n",
      "1989\n",
      "Generation\n",
      "1995\n",
      "Generation\n",
      "1960\n",
      "Jonh millenial\n",
      "Mari generation x\n",
      "Mich baby boomer\n"
     ]
    }
   ],
   "source": [
    "result1 = generation_calculator (name1, birth_year1)\n",
    "result2 = generation_calculator (name2, birth_year2)\n",
    "result3 = generation_calculator (name3, birth_year3)\n",
    "\n",
    "print (result1)\n",
    "print (result2)\n",
    "print (result3)"
   ]
  },
  {
   "cell_type": "code",
   "execution_count": null,
   "id": "4cedf9b3",
   "metadata": {},
   "outputs": [],
   "source": []
  }
 ],
 "metadata": {
  "kernelspec": {
   "display_name": "Python 3 (ipykernel)",
   "language": "python",
   "name": "python3"
  },
  "language_info": {
   "codemirror_mode": {
    "name": "ipython",
    "version": 3
   },
   "file_extension": ".py",
   "mimetype": "text/x-python",
   "name": "python",
   "nbconvert_exporter": "python",
   "pygments_lexer": "ipython3",
   "version": "3.9.7"
  }
 },
 "nbformat": 4,
 "nbformat_minor": 5
}
