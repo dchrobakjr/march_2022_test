{
 "cells": [
  {
   "cell_type": "markdown",
   "id": "489b326c",
   "metadata": {},
   "source": [
    "x = Get user input\n",
    "\n",
    "y = Covert x to celsius\n",
    "\n",
    "Output meassage displaying Celsius tempature|"
   ]
  },
  {
   "cell_type": "code",
   "execution_count": 9,
   "id": "842fdcfd",
   "metadata": {},
   "outputs": [
    {
     "name": "stdout",
     "output_type": "stream",
     "text": [
      "Please input a tempature in Farenheit.100\n",
      "Data type for variable x is  <class 'str'>\n",
      "Your tempature in Celsius is:  37.77777777777778\n"
     ]
    }
   ],
   "source": [
    "x=input(\"Please input a tempature in Farenheit.\")\n",
    "print(\"Data type for variable x is \", type(x))\n",
    "y=(float(x)-32)*5/9\n",
    "print(\"Your tempature in Celsius is: \", y)"
   ]
  },
  {
   "cell_type": "code",
   "execution_count": 16,
   "id": "4b8e5845",
   "metadata": {},
   "outputs": [
    {
     "name": "stdout",
     "output_type": "stream",
     "text": [
      "Press 1 to covert from Farenheit to Celsius or Press 2 to convert from Celsius to Farneheit2\n",
      "What is the number you want to convert?30\n",
      "86.0\n"
     ]
    }
   ],
   "source": [
    "x = int(input(\"Press 1 to covert from Farenheit to Celsius or Press 2 to convert from Celsius to Farneheit\"))\n",
    "y = input(\"What is the number you want to convert?\")\n",
    "z = float(x)\n",
    "\n",
    "if z == 1:\n",
    "    y=float(y)-32*5/9\n",
    "    print(y)\n",
    "elif z == 2:\n",
    "    y=float(y)*9/5+32\n",
    "    print(y)\n",
    "else:\n",
    "    (\"Please enter either 1 or 2\")"
   ]
  },
  {
   "cell_type": "code",
   "execution_count": 22,
   "id": "aec353c8",
   "metadata": {},
   "outputs": [
    {
     "name": "stdout",
     "output_type": "stream",
     "text": [
      "Press 1 to convert from Farenheit to Celsius or press 2 to convert from celsius to farneheight. 1\n",
      "What is the number you want to convert?a\n",
      "ERROR: Please enter a number\n",
      "What is the number you want to convert?100\n",
      "37.77777777777778\n"
     ]
    }
   ],
   "source": [
    "flag1=False\n",
    "while flag1==False:\n",
    "    x = input(\"Press 1 to convert from Farenheit to Celsius or press 2 to convert from celsius to farneheight. \")\n",
    "    if x not in ['1','2']:\n",
    "        print('ERROR: Please enter either 1 or 2')\n",
    "    else:\n",
    "        z = int(x)\n",
    "        flag1=True\n",
    "\n",
    "flag2=False\n",
    "while flag2==False:\n",
    "    y = input(\"What is the number you want to convert?\")\n",
    "    if y.replace(\".\", \"\", 1).lstrip('+-').isdigit()==False:\n",
    "        print('ERROR: Please enter a number')\n",
    "    else:\n",
    "        y=float(y)\n",
    "        flag2=True\n",
    "        \n",
    "if z == 1:\n",
    "    y=(y-32)*5/9\n",
    "    print(y)nd\n",
    "else:\n",
    "    y=y*9/5+32\n",
    "    print(y)"
   ]
  },
  {
   "cell_type": "markdown",
   "id": "5091db5a",
   "metadata": {},
   "source": [
    "# Excercise - Writing Pseudocode"
   ]
  },
  {
   "cell_type": "markdown",
   "id": "dd70657f",
   "metadata": {},
   "source": [
    "Duel Of Sorcerers"
   ]
  },
  {
   "cell_type": "markdown",
   "id": "b51b6dd5",
   "metadata": {},
   "source": [
    "Pseudocode"
   ]
  },
  {
   "cell_type": "markdown",
   "id": "8c9e1df1",
   "metadata": {},
   "source": [
    "Creat two variables and assign spell lists\n",
    "\n",
    "Create variables to store each of the sorcerers wins, assign 0 to each vairiable\n",
    "\n",
    "Execute the spell clashes, based on the lists\n",
    "\n",
    "Compare each fight\n",
    "\n",
    "if Gandalf wins, win variable should go up by 1\n",
    "\n",
    "if Saruman wins, win variable should go up by 1 \n",
    "\n",
    "else it is a tie\n",
    "\n",
    "if Gandalfs wins more times, print Gandalf Wins\n",
    "\n",
    "if Salamun wins more times, print Gandalf Wins\n",
    "\n",
    "Else, print there is a tie"
   ]
  },
  {
   "cell_type": "code",
   "execution_count": 23,
   "id": "c30fdbd6",
   "metadata": {},
   "outputs": [],
   "source": [
    "gandalf = [10, 11, 13, 30, 22, 11, 10, 33, 22, 22]\n",
    "saruman = [23, 66, 12, 43, 12, 10, 44, 23, 12, 17]"
   ]
  },
  {
   "cell_type": "code",
   "execution_count": 27,
   "id": "4ba49354",
   "metadata": {},
   "outputs": [],
   "source": [
    "total_gandalf_wins = 0\n",
    "total_saruman_wins = 0"
   ]
  },
  {
   "cell_type": "code",
   "execution_count": 31,
   "id": "b3b829df",
   "metadata": {},
   "outputs": [
    {
     "name": "stdout",
     "output_type": "stream",
     "text": [
      "Gandalf Wins\n"
     ]
    }
   ],
   "source": [
    "for i in range(0, len(gandalf)):\n",
    "    if (gandalf[i] > saruman[i]):\n",
    "        total_gandalf_wins += 1\n",
    "    elif (saruman[i] > gandalf[i]):\n",
    "        total_saruman_wins +- 1\n",
    "\n",
    "if (total_gandalf_wins > total_saruman_wins):\n",
    "    print(\"Gandalf Wins\")\n",
    "elif (total_saruman_wins > total_gandalf_wins):\n",
    "    print(\"Saruman Wins\")   \n",
    "else:\n",
    "    print(\"Tie\")"
   ]
  }
 ],
 "metadata": {
  "kernelspec": {
   "display_name": "Python 3 (ipykernel)",
   "language": "python",
   "name": "python3"
  },
  "language_info": {
   "codemirror_mode": {
    "name": "ipython",
    "version": 3
   },
   "file_extension": ".py",
   "mimetype": "text/x-python",
   "name": "python",
   "nbconvert_exporter": "python",
   "pygments_lexer": "ipython3",
   "version": "3.9.7"
  }
 },
 "nbformat": 4,
 "nbformat_minor": 5
}
