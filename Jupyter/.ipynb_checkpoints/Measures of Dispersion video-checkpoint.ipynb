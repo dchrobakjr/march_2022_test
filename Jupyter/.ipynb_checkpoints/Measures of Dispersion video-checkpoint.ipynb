{
 "cells": [
  {
   "cell_type": "code",
   "execution_count": 1,
   "id": "9e8e3afb",
   "metadata": {},
   "outputs": [],
   "source": [
    "import statistics as st"
   ]
  },
  {
   "cell_type": "code",
   "execution_count": 6,
   "id": "6e318f16",
   "metadata": {},
   "outputs": [],
   "source": [
    "import numpy as np"
   ]
  },
  {
   "cell_type": "code",
   "execution_count": 24,
   "id": "b40ffa80",
   "metadata": {},
   "outputs": [],
   "source": [
    "lst1 = [(-10), 0, 10, 20, 30]\n",
    "lst2 = [8, 9, 10, 11, 12]"
   ]
  },
  {
   "cell_type": "code",
   "execution_count": 25,
   "id": "165a6e7a",
   "metadata": {},
   "outputs": [
    {
     "data": {
      "text/plain": [
       "10"
      ]
     },
     "execution_count": 25,
     "metadata": {},
     "output_type": "execute_result"
    }
   ],
   "source": [
    "stats.mean(lst1)\n",
    "stats.mean(lst2)"
   ]
  },
  {
   "cell_type": "code",
   "execution_count": 26,
   "id": "a0324f79",
   "metadata": {},
   "outputs": [
    {
     "data": {
      "text/plain": [
       "40"
      ]
     },
     "execution_count": 26,
     "metadata": {},
     "output_type": "execute_result"
    }
   ],
   "source": [
    "lst1_range = max(lst1) - min(lst1)\n",
    "lst1_range"
   ]
  },
  {
   "cell_type": "code",
   "execution_count": 27,
   "id": "68c437dc",
   "metadata": {},
   "outputs": [
    {
     "data": {
      "text/plain": [
       "4"
      ]
     },
     "execution_count": 27,
     "metadata": {},
     "output_type": "execute_result"
    }
   ],
   "source": [
    "ls2_range = max(lst2) - min(lst2)\n",
    "lst2_range"
   ]
  },
  {
   "cell_type": "markdown",
   "id": "1dc735a7",
   "metadata": {},
   "source": [
    "More Disperse set  40 > 4"
   ]
  },
  {
   "cell_type": "markdown",
   "id": "cc3ee4dd",
   "metadata": {},
   "source": [
    "Variance = std (standard deviation)"
   ]
  },
  {
   "cell_type": "markdown",
   "id": "23d75a3b",
   "metadata": {},
   "source": [
    "(-10-10)² + (0-10)² + (10-10)² + (20-10)² + (30-10)²/5"
   ]
  },
  {
   "cell_type": "markdown",
   "id": "c9f60298",
   "metadata": {},
   "source": [
    "The squared differences between each number and the mean/Number of terms in the distribution"
   ]
  },
  {
   "cell_type": "code",
   "execution_count": 28,
   "id": "3bcd15d5",
   "metadata": {},
   "outputs": [
    {
     "data": {
      "text/plain": [
       "250"
      ]
     },
     "execution_count": 28,
     "metadata": {},
     "output_type": "execute_result"
    }
   ],
   "source": [
    "stats.variance(lst1)"
   ]
  },
  {
   "cell_type": "code",
   "execution_count": 29,
   "id": "372351db",
   "metadata": {},
   "outputs": [
    {
     "data": {
      "text/plain": [
       "2.5"
      ]
     },
     "execution_count": 29,
     "metadata": {},
     "output_type": "execute_result"
    }
   ],
   "source": [
    "stats.variance(lst2)"
   ]
  },
  {
   "cell_type": "markdown",
   "id": "e1f64c82",
   "metadata": {},
   "source": [
    "Standard deviation is the square root of the variance"
   ]
  },
  {
   "cell_type": "code",
   "execution_count": 30,
   "id": "d95a7521",
   "metadata": {},
   "outputs": [
    {
     "data": {
      "text/plain": [
       "15.811388300841896"
      ]
     },
     "execution_count": 30,
     "metadata": {},
     "output_type": "execute_result"
    }
   ],
   "source": [
    "stats.stdev(lst1)"
   ]
  },
  {
   "cell_type": "code",
   "execution_count": 31,
   "id": "25093e06",
   "metadata": {},
   "outputs": [
    {
     "data": {
      "text/plain": [
       "1.5811388300841898"
      ]
     },
     "execution_count": 31,
     "metadata": {},
     "output_type": "execute_result"
    }
   ],
   "source": [
    "stats.stdev(lst2)"
   ]
  },
  {
   "cell_type": "markdown",
   "id": "fbf4ea69",
   "metadata": {},
   "source": [
    "10 times the standard deviation"
   ]
  },
  {
   "cell_type": "code",
   "execution_count": null,
   "id": "2815b0b1",
   "metadata": {},
   "outputs": [],
   "source": []
  }
 ],
 "metadata": {
  "kernelspec": {
   "display_name": "Python 3 (ipykernel)",
   "language": "python",
   "name": "python3"
  },
  "language_info": {
   "codemirror_mode": {
    "name": "ipython",
    "version": 3
   },
   "file_extension": ".py",
   "mimetype": "text/x-python",
   "name": "python",
   "nbconvert_exporter": "python",
   "pygments_lexer": "ipython3",
   "version": "3.9.7"
  }
 },
 "nbformat": 4,
 "nbformat_minor": 5
}
