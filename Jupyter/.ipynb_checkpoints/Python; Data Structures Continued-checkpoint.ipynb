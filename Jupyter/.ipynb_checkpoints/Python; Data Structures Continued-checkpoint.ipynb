{
 "cells": [
  {
   "cell_type": "markdown",
   "id": "444852aa",
   "metadata": {},
   "source": [
    "# Data Structures Continued"
   ]
  },
  {
   "cell_type": "code",
   "execution_count": 3,
   "id": "72abae5b",
   "metadata": {},
   "outputs": [],
   "source": [
    "contacts = {'John': '312-555-1234', 'Paul': '312-555-3123', 'George': '312-555-3333', 'Ringo': '312-555-2222'}"
   ]
  },
  {
   "cell_type": "code",
   "execution_count": 4,
   "id": "4766099d",
   "metadata": {},
   "outputs": [
    {
     "data": {
      "text/plain": [
       "dict"
      ]
     },
     "execution_count": 4,
     "metadata": {},
     "output_type": "execute_result"
    }
   ],
   "source": [
    "type(contacts)"
   ]
  },
  {
   "cell_type": "code",
   "execution_count": 5,
   "id": "48ef00a2",
   "metadata": {},
   "outputs": [
    {
     "data": {
      "text/plain": [
       "'312-555-1234'"
      ]
     },
     "execution_count": 5,
     "metadata": {},
     "output_type": "execute_result"
    }
   ],
   "source": [
    "contacts['John']"
   ]
  },
  {
   "cell_type": "code",
   "execution_count": 7,
   "id": "a319a52c",
   "metadata": {},
   "outputs": [
    {
     "data": {
      "text/plain": [
       "'312-555-3123'"
      ]
     },
     "execution_count": 7,
     "metadata": {},
     "output_type": "execute_result"
    }
   ],
   "source": [
    "contacts['Paul']"
   ]
  },
  {
   "cell_type": "code",
   "execution_count": 8,
   "id": "94096d00",
   "metadata": {},
   "outputs": [
    {
     "ename": "KeyError",
     "evalue": "'PAUL'",
     "output_type": "error",
     "traceback": [
      "\u001b[0;31m---------------------------------------------------------------------------\u001b[0m",
      "\u001b[0;31mKeyError\u001b[0m                                  Traceback (most recent call last)",
      "\u001b[0;32m/var/folders/dd/syvd8vw17d90rfnw5153l64r0000gn/T/ipykernel_1951/2584359731.py\u001b[0m in \u001b[0;36m<module>\u001b[0;34m\u001b[0m\n\u001b[0;32m----> 1\u001b[0;31m \u001b[0mcontacts\u001b[0m\u001b[0;34m[\u001b[0m\u001b[0;34m'PAUL'\u001b[0m\u001b[0;34m]\u001b[0m\u001b[0;34m\u001b[0m\u001b[0;34m\u001b[0m\u001b[0m\n\u001b[0m",
      "\u001b[0;31mKeyError\u001b[0m: 'PAUL'"
     ]
    }
   ],
   "source": [
    "contacts['PAUL']"
   ]
  },
  {
   "cell_type": "code",
   "execution_count": 9,
   "id": "fd073f0e",
   "metadata": {},
   "outputs": [
    {
     "data": {
      "text/plain": [
       "dict_keys(['John', 'Paul', 'George', 'Ringo'])"
      ]
     },
     "execution_count": 9,
     "metadata": {},
     "output_type": "execute_result"
    }
   ],
   "source": [
    "contacts.keys()"
   ]
  },
  {
   "cell_type": "code",
   "execution_count": 10,
   "id": "cf073aaa",
   "metadata": {},
   "outputs": [
    {
     "data": {
      "text/plain": [
       "dict_values(['312-555-1234', '312-555-3123', '312-555-3333', '312-555-2222'])"
      ]
     },
     "execution_count": 10,
     "metadata": {},
     "output_type": "execute_result"
    }
   ],
   "source": [
    "contacts.values()"
   ]
  },
  {
   "cell_type": "code",
   "execution_count": 11,
   "id": "6669d08c",
   "metadata": {},
   "outputs": [],
   "source": [
    "contacts['Himanshu'] = '480-111-2222'"
   ]
  },
  {
   "cell_type": "code",
   "execution_count": 12,
   "id": "5b4086ef",
   "metadata": {},
   "outputs": [
    {
     "name": "stdout",
     "output_type": "stream",
     "text": [
      "{'John': '312-555-1234', 'Paul': '312-555-3123', 'George': '312-555-3333', 'Ringo': '312-555-2222', 'Himanshu': '480-111-2222'}\n"
     ]
    }
   ],
   "source": [
    "print(contacts)"
   ]
  },
  {
   "cell_type": "code",
   "execution_count": 14,
   "id": "5d4fb056",
   "metadata": {},
   "outputs": [
    {
     "data": {
      "text/plain": [
       "'John'"
      ]
     },
     "execution_count": 14,
     "metadata": {},
     "output_type": "execute_result"
    }
   ],
   "source": [
    "student_names = {1: 'John', 2: 'Smith', 3: 'Matt', 4: 'Jimmy', 5: 'Sue'}\n",
    "student_names[1]"
   ]
  },
  {
   "cell_type": "code",
   "execution_count": 15,
   "id": "808337e6",
   "metadata": {},
   "outputs": [
    {
     "data": {
      "text/plain": [
       "'Smith'"
      ]
     },
     "execution_count": 15,
     "metadata": {},
     "output_type": "execute_result"
    }
   ],
   "source": [
    "student_names[2]"
   ]
  },
  {
   "cell_type": "code",
   "execution_count": 17,
   "id": "880e6727",
   "metadata": {},
   "outputs": [],
   "source": [
    "student_data = {\n",
    "    'Name': 'Himanshu',\n",
    "    'E-mail': 'himanshuagg@gmail.com',\n",
    "    'Age': 28,\n",
    "    'subjects': ['math','science','history', 'geography']\n",
    "}"
   ]
  },
  {
   "cell_type": "code",
   "execution_count": 18,
   "id": "5d51907c",
   "metadata": {},
   "outputs": [
    {
     "data": {
      "text/plain": [
       "dict_keys(['Name', 'E-mail', 'Age', 'subjects'])"
      ]
     },
     "execution_count": 18,
     "metadata": {},
     "output_type": "execute_result"
    }
   ],
   "source": [
    "student_data.keys()"
   ]
  },
  {
   "cell_type": "code",
   "execution_count": 20,
   "id": "2ba251d1",
   "metadata": {},
   "outputs": [
    {
     "data": {
      "text/plain": [
       "'Himanshu'"
      ]
     },
     "execution_count": 20,
     "metadata": {},
     "output_type": "execute_result"
    }
   ],
   "source": [
    "student_data['Name']"
   ]
  },
  {
   "cell_type": "code",
   "execution_count": 22,
   "id": "9931e4c9",
   "metadata": {},
   "outputs": [
    {
     "data": {
      "text/plain": [
       "'himanshuagg@gmail.com'"
      ]
     },
     "execution_count": 22,
     "metadata": {},
     "output_type": "execute_result"
    }
   ],
   "source": [
    "student_data['E-mail']"
   ]
  },
  {
   "cell_type": "code",
   "execution_count": 27,
   "id": "fe61ae7c",
   "metadata": {},
   "outputs": [],
   "source": [
    "student_data:['Age']"
   ]
  },
  {
   "cell_type": "code",
   "execution_count": 28,
   "id": "f3060555",
   "metadata": {},
   "outputs": [
    {
     "data": {
      "text/plain": [
       "['math', 'science', 'history', 'geography']"
      ]
     },
     "execution_count": 28,
     "metadata": {},
     "output_type": "execute_result"
    }
   ],
   "source": [
    "student_data['subjects']"
   ]
  },
  {
   "cell_type": "code",
   "execution_count": 29,
   "id": "97a4c477",
   "metadata": {},
   "outputs": [
    {
     "data": {
      "text/plain": [
       "'science'"
      ]
     },
     "execution_count": 29,
     "metadata": {},
     "output_type": "execute_result"
    }
   ],
   "source": [
    "student_data['subjects'][1]"
   ]
  },
  {
   "cell_type": "markdown",
   "id": "29a3cf80",
   "metadata": {},
   "source": [
    "# Exercises"
   ]
  },
  {
   "cell_type": "markdown",
   "id": "23e1b90b",
   "metadata": {},
   "source": [
    "# 1."
   ]
  },
  {
   "cell_type": "code",
   "execution_count": 30,
   "id": "a6f87296",
   "metadata": {},
   "outputs": [],
   "source": [
    "word_freq = {'love': 25, 'conversation': 1, 'every': 6, \"we're\": 1, 'plate': 1, 'sour': 1, 'jukebox': 1, 'now': 11, 'taxi': 1, 'fast': 1, 'bag': 1, 'man': 1, 'push': 3, 'baby': 14, 'going': 1, 'you': 16, \"don't\": 2, 'one': 1, 'mind': 2, 'backseat': 1, 'friends': 1, 'then': 3, 'know': 2}"
   ]
  },
  {
   "cell_type": "code",
   "execution_count": 32,
   "id": "9265f94d",
   "metadata": {},
   "outputs": [
    {
     "data": {
      "text/plain": [
       "dict_keys(['love', 'conversation', 'every', \"we're\", 'plate', 'sour', 'jukebox', 'now', 'taxi', 'fast', 'bag', 'man', 'push', 'baby', 'going', 'you', \"don't\", 'one', 'mind', 'backseat', 'friends', 'then', 'know'])"
      ]
     },
     "execution_count": 32,
     "metadata": {},
     "output_type": "execute_result"
    }
   ],
   "source": [
    "word_freq.keys()"
   ]
  },
  {
   "cell_type": "code",
   "execution_count": 33,
   "id": "a31b73fb",
   "metadata": {},
   "outputs": [
    {
     "name": "stdout",
     "output_type": "stream",
     "text": [
      "23\n"
     ]
    }
   ],
   "source": [
    "print(len(word_freq.keys()))"
   ]
  },
  {
   "cell_type": "markdown",
   "id": "64f07131",
   "metadata": {},
   "source": [
    "23 keys"
   ]
  },
  {
   "cell_type": "code",
   "execution_count": 36,
   "id": "d926e6c3",
   "metadata": {},
   "outputs": [
    {
     "data": {
      "text/plain": [
       "dict_keys(['love', 'conversation', 'every', \"we're\", 'plate', 'sour', 'jukebox', 'now', 'taxi', 'fast', 'bag', 'man', 'push', 'baby', 'going', 'you', \"don't\", 'one', 'mind', 'backseat', 'friends', 'then', 'know'])"
      ]
     },
     "execution_count": 36,
     "metadata": {},
     "output_type": "execute_result"
    }
   ],
   "source": [
    "word_freq.keys()"
   ]
  },
  {
   "cell_type": "code",
   "execution_count": 39,
   "id": "e83cf78a",
   "metadata": {},
   "outputs": [
    {
     "data": {
      "text/plain": [
       "1"
      ]
     },
     "execution_count": 39,
     "metadata": {},
     "output_type": "execute_result"
    }
   ],
   "source": [
    "word_freq['friends']\n",
    "word_freq['taxi']\n",
    "word_freq['jukebox']\n"
   ]
  },
  {
   "cell_type": "code",
   "execution_count": 40,
   "id": "fbdc77c4",
   "metadata": {},
   "outputs": [
    {
     "ename": "KeyError",
     "evalue": "'begin'",
     "output_type": "error",
     "traceback": [
      "\u001b[0;31m---------------------------------------------------------------------------\u001b[0m",
      "\u001b[0;31mKeyError\u001b[0m                                  Traceback (most recent call last)",
      "\u001b[0;32m/var/folders/dd/syvd8vw17d90rfnw5153l64r0000gn/T/ipykernel_1951/1452158776.py\u001b[0m in \u001b[0;36m<module>\u001b[0;34m\u001b[0m\n\u001b[0;32m----> 1\u001b[0;31m \u001b[0mword_freq\u001b[0m\u001b[0;34m[\u001b[0m\u001b[0;34m'begin'\u001b[0m\u001b[0;34m]\u001b[0m\u001b[0;34m\u001b[0m\u001b[0;34m\u001b[0m\u001b[0m\n\u001b[0m",
      "\u001b[0;31mKeyError\u001b[0m: 'begin'"
     ]
    }
   ],
   "source": [
    "word_freq['begin']"
   ]
  },
  {
   "cell_type": "code",
   "execution_count": 57,
   "id": "bdc1a56a",
   "metadata": {},
   "outputs": [],
   "source": [
    "word_freq['begin'] = '1'"
   ]
  },
  {
   "cell_type": "code",
   "execution_count": 56,
   "id": "a8ac3a65",
   "metadata": {},
   "outputs": [
    {
     "name": "stdout",
     "output_type": "stream",
     "text": [
      "{'love': 25, 'conversation': 1, 'every': 6, \"we're\": 1, 'plate': 1, 'sour': 1, 'jukebox': 1, 'now': 11, 'taxi': 1, 'fast': 1, 'bag': 1, 'man': 1, 'push': 3, 'baby': 14, 'going': 1, 'you': 16, \"don't\": 2, 'one': 1, 'mind': 2, 'backseat': 1, 'friends': 1, 'then': 3, 'know': 2}\n"
     ]
    }
   ],
   "source": [
    "print(word_freq)"
   ]
  },
  {
   "cell_type": "code",
   "execution_count": 58,
   "id": "b34fd683",
   "metadata": {},
   "outputs": [],
   "source": [
    "word_freq['start'] = '2'"
   ]
  },
  {
   "cell_type": "code",
   "execution_count": 60,
   "id": "4f572049",
   "metadata": {},
   "outputs": [],
   "source": [
    "word_freq['over'] = '1'"
   ]
  },
  {
   "cell_type": "code",
   "execution_count": 61,
   "id": "ce54f1f3",
   "metadata": {},
   "outputs": [],
   "source": [
    "word_freq['body'] = '17'"
   ]
  },
  {
   "cell_type": "code",
   "execution_count": 62,
   "id": "3f7dbe0f",
   "metadata": {},
   "outputs": [
    {
     "name": "stdout",
     "output_type": "stream",
     "text": [
      "{'love': 25, 'conversation': 1, 'every': 6, \"we're\": 1, 'plate': 1, 'sour': 1, 'jukebox': 1, 'now': 11, 'taxi': 1, 'fast': 1, 'bag': 1, 'man': 1, 'push': 3, 'baby': 14, 'going': 1, 'you': 16, \"don't\": 2, 'one': 1, 'mind': 2, 'backseat': 1, 'friends': 1, 'then': 3, 'know': 2, 'begin': '1', 'start': '2', 'over': '1', 'body': '17'}\n"
     ]
    }
   ],
   "source": [
    "print(word_freq)"
   ]
  },
  {
   "cell_type": "code",
   "execution_count": 63,
   "id": "326894cf",
   "metadata": {},
   "outputs": [
    {
     "data": {
      "text/plain": [
       "['love',\n",
       " 'conversation',\n",
       " 'every',\n",
       " \"we're\",\n",
       " 'plate',\n",
       " 'sour',\n",
       " 'jukebox',\n",
       " 'now',\n",
       " 'taxi',\n",
       " 'fast',\n",
       " 'bag',\n",
       " 'man',\n",
       " 'push',\n",
       " 'baby',\n",
       " 'going',\n",
       " 'you',\n",
       " \"don't\",\n",
       " 'one',\n",
       " 'mind',\n",
       " 'backseat',\n",
       " 'friends',\n",
       " 'then',\n",
       " 'know',\n",
       " 'begin',\n",
       " 'start',\n",
       " 'over',\n",
       " 'body']"
      ]
     },
     "execution_count": 63,
     "metadata": {},
     "output_type": "execute_result"
    }
   ],
   "source": [
    "list(word_freq.keys())"
   ]
  },
  {
   "cell_type": "code",
   "execution_count": 64,
   "id": "b9dcceb4",
   "metadata": {},
   "outputs": [],
   "source": [
    "word = list(word_freq)"
   ]
  },
  {
   "cell_type": "code",
   "execution_count": 65,
   "id": "c644f6ad",
   "metadata": {},
   "outputs": [
    {
     "name": "stdout",
     "output_type": "stream",
     "text": [
      "['love', 'conversation', 'every', \"we're\", 'plate', 'sour', 'jukebox', 'now', 'taxi', 'fast', 'bag', 'man', 'push', 'baby', 'going', 'you', \"don't\", 'one', 'mind', 'backseat', 'friends', 'then', 'know', 'begin', 'start', 'over', 'body']\n"
     ]
    }
   ],
   "source": [
    "print(word)"
   ]
  },
  {
   "cell_type": "code",
   "execution_count": 68,
   "id": "ff72a647",
   "metadata": {},
   "outputs": [
    {
     "data": {
      "text/plain": [
       "'love'"
      ]
     },
     "execution_count": 68,
     "metadata": {},
     "output_type": "execute_result"
    }
   ],
   "source": [
    "word[0]"
   ]
  },
  {
   "cell_type": "code",
   "execution_count": 69,
   "id": "c9621a8a",
   "metadata": {},
   "outputs": [
    {
     "data": {
      "text/plain": [
       "'body'"
      ]
     },
     "execution_count": 69,
     "metadata": {},
     "output_type": "execute_result"
    }
   ],
   "source": [
    "word[-1]"
   ]
  },
  {
   "cell_type": "markdown",
   "id": "fb6ceea8",
   "metadata": {},
   "source": [
    "# 1.2"
   ]
  },
  {
   "cell_type": "markdown",
   "id": "231fae90",
   "metadata": {},
   "source": [
    "No a key-value has to have a unique key."
   ]
  },
  {
   "cell_type": "markdown",
   "id": "903af16d",
   "metadata": {},
   "source": [
    "# 1.3"
   ]
  },
  {
   "cell_type": "markdown",
   "id": "d5df3423",
   "metadata": {},
   "source": [
    "Yes, as long as the keys are different."
   ]
  },
  {
   "cell_type": "markdown",
   "id": "335c2b76",
   "metadata": {},
   "source": [
    "# Additional Content: Nested Disctionaries"
   ]
  },
  {
   "cell_type": "code",
   "execution_count": 7,
   "id": "85b24492",
   "metadata": {},
   "outputs": [],
   "source": [
    "contacts = {1: {'Name' : 'John' , 'Phone':'312-555-1234'},\n",
    "            2: {'Name' : 'Paul' , 'Phone':'312-555-3123'},\n",
    "            3: {'Name': 'George' , 'Phone':'312-555-3333'},\n",
    "            4: {'Name' : 'Ringo' , 'Phone': '312-555-2222'}}"
   ]
  },
  {
   "cell_type": "code",
   "execution_count": 8,
   "id": "49cbb950",
   "metadata": {},
   "outputs": [
    {
     "data": {
      "text/plain": [
       "dict"
      ]
     },
     "execution_count": 8,
     "metadata": {},
     "output_type": "execute_result"
    }
   ],
   "source": [
    "type(contacts)"
   ]
  },
  {
   "cell_type": "code",
   "execution_count": 9,
   "id": "06fb62a6",
   "metadata": {},
   "outputs": [
    {
     "data": {
      "text/plain": [
       "{1: {'Name': 'John', 'Phone': '312-555-1234'},\n",
       " 2: {'Name': 'Paul', 'Phone': '312-555-3123'},\n",
       " 3: {'Name': 'George', 'Phone': '312-555-3333'},\n",
       " 4: {'Name': 'Ringo', 'Phone': '312-555-2222'}}"
      ]
     },
     "execution_count": 9,
     "metadata": {},
     "output_type": "execute_result"
    }
   ],
   "source": [
    "contacts"
   ]
  },
  {
   "cell_type": "code",
   "execution_count": 10,
   "id": "9e7d2140",
   "metadata": {},
   "outputs": [
    {
     "data": {
      "text/plain": [
       "dict_values([{'Name': 'John', 'Phone': '312-555-1234'}, {'Name': 'Paul', 'Phone': '312-555-3123'}, {'Name': 'George', 'Phone': '312-555-3333'}, {'Name': 'Ringo', 'Phone': '312-555-2222'}])"
      ]
     },
     "execution_count": 10,
     "metadata": {},
     "output_type": "execute_result"
    }
   ],
   "source": [
    "contacts.values()"
   ]
  },
  {
   "cell_type": "code",
   "execution_count": 11,
   "id": "e2fd96db",
   "metadata": {},
   "outputs": [
    {
     "name": "stdout",
     "output_type": "stream",
     "text": [
      "{'Name': 'John', 'Phone': '312-555-1234'}\n"
     ]
    }
   ],
   "source": [
    "print(contacts[1])"
   ]
  },
  {
   "cell_type": "code",
   "execution_count": 13,
   "id": "6933ee44",
   "metadata": {},
   "outputs": [
    {
     "data": {
      "text/plain": [
       "dict_keys(['Name', 'Phone'])"
      ]
     },
     "execution_count": 13,
     "metadata": {},
     "output_type": "execute_result"
    }
   ],
   "source": [
    "contacts[1].keys()"
   ]
  },
  {
   "cell_type": "code",
   "execution_count": 15,
   "id": "3631e37a",
   "metadata": {},
   "outputs": [
    {
     "data": {
      "text/plain": [
       "dict_values(['John', '312-555-1234'])"
      ]
     },
     "execution_count": 15,
     "metadata": {},
     "output_type": "execute_result"
    }
   ],
   "source": [
    "contacts[1].values()"
   ]
  },
  {
   "cell_type": "code",
   "execution_count": 16,
   "id": "3dc3afe7",
   "metadata": {},
   "outputs": [
    {
     "data": {
      "text/plain": [
       "'John'"
      ]
     },
     "execution_count": 16,
     "metadata": {},
     "output_type": "execute_result"
    }
   ],
   "source": [
    "contacts[1][\"Name\"]"
   ]
  },
  {
   "cell_type": "code",
   "execution_count": 22,
   "id": "0d9bfd17",
   "metadata": {},
   "outputs": [
    {
     "data": {
      "text/plain": [
       "'312-555-1234'"
      ]
     },
     "execution_count": 22,
     "metadata": {},
     "output_type": "execute_result"
    }
   ],
   "source": [
    "contacts[1]['Phone']"
   ]
  },
  {
   "cell_type": "code",
   "execution_count": 23,
   "id": "e77223c9",
   "metadata": {},
   "outputs": [
    {
     "data": {
      "text/plain": [
       "[{'Mike': [25, 23000], 'Jane': [38, 40000], 'Bill': [45, 35000]},\n",
       " {'Developers': ['Mike', 'Bill']},\n",
       " {'HR': ['Jane']}]"
      ]
     },
     "execution_count": 23,
     "metadata": {},
     "output_type": "execute_result"
    }
   ],
   "source": [
    "my_data = [{'Mike': [25,23000],'Jane': [38, 40000],'Bill': [45,35000]},{'Developers': ['Mike','Bill']},{'HR': ['Jane']}]\n",
    "my_data"
   ]
  },
  {
   "cell_type": "code",
   "execution_count": 24,
   "id": "8f7fbefb",
   "metadata": {},
   "outputs": [
    {
     "data": {
      "text/plain": [
       "list"
      ]
     },
     "execution_count": 24,
     "metadata": {},
     "output_type": "execute_result"
    }
   ],
   "source": [
    "type(my_data)"
   ]
  },
  {
   "cell_type": "code",
   "execution_count": 25,
   "id": "822722ef",
   "metadata": {},
   "outputs": [
    {
     "data": {
      "text/plain": [
       "{'Mike': [25, 23000], 'Jane': [38, 40000], 'Bill': [45, 35000]}"
      ]
     },
     "execution_count": 25,
     "metadata": {},
     "output_type": "execute_result"
    }
   ],
   "source": [
    "my_data[0]"
   ]
  },
  {
   "cell_type": "code",
   "execution_count": 26,
   "id": "586c86aa",
   "metadata": {},
   "outputs": [
    {
     "data": {
      "text/plain": [
       "dict"
      ]
     },
     "execution_count": 26,
     "metadata": {},
     "output_type": "execute_result"
    }
   ],
   "source": [
    "type(my_data[0])"
   ]
  },
  {
   "cell_type": "code",
   "execution_count": 27,
   "id": "159c6183",
   "metadata": {},
   "outputs": [
    {
     "data": {
      "text/plain": [
       "[38, 40000]"
      ]
     },
     "execution_count": 27,
     "metadata": {},
     "output_type": "execute_result"
    }
   ],
   "source": [
    "my_data[0]['Jane']"
   ]
  },
  {
   "cell_type": "code",
   "execution_count": 30,
   "id": "53eb6808",
   "metadata": {},
   "outputs": [
    {
     "data": {
      "text/plain": [
       "40000"
      ]
     },
     "execution_count": 30,
     "metadata": {},
     "output_type": "execute_result"
    }
   ],
   "source": [
    "my_data[0]['Jane'][1]"
   ]
  },
  {
   "cell_type": "code",
   "execution_count": null,
   "id": "181bfec4",
   "metadata": {},
   "outputs": [],
   "source": []
  }
 ],
 "metadata": {
  "kernelspec": {
   "display_name": "Python 3 (ipykernel)",
   "language": "python",
   "name": "python3"
  },
  "language_info": {
   "codemirror_mode": {
    "name": "ipython",
    "version": 3
   },
   "file_extension": ".py",
   "mimetype": "text/x-python",
   "name": "python",
   "nbconvert_exporter": "python",
   "pygments_lexer": "ipython3",
   "version": "3.9.7"
  }
 },
 "nbformat": 4,
 "nbformat_minor": 5
}
