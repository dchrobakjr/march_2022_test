{
 "cells": [
  {
   "cell_type": "code",
   "execution_count": 1,
   "id": "96422c22",
   "metadata": {},
   "outputs": [],
   "source": [
    "import statistics as stats"
   ]
  },
  {
   "cell_type": "code",
   "execution_count": 4,
   "id": "0e811f55",
   "metadata": {},
   "outputs": [],
   "source": [
    "student_grades = [79, 87, 99, 96, 88, 79, 75, 68, 90, 91, 67]"
   ]
  },
  {
   "cell_type": "code",
   "execution_count": 5,
   "id": "a47a437e",
   "metadata": {},
   "outputs": [
    {
     "data": {
      "text/plain": [
       "83.54545454545455"
      ]
     },
     "execution_count": 5,
     "metadata": {},
     "output_type": "execute_result"
    }
   ],
   "source": [
    "stats.mean(student_grades)"
   ]
  },
  {
   "cell_type": "code",
   "execution_count": 6,
   "id": "9107aedd",
   "metadata": {},
   "outputs": [],
   "source": [
    "student_grades = [79, 87, 99, 96, 88, 79, 75, 68, 90, 91, 67]"
   ]
  },
  {
   "cell_type": "code",
   "execution_count": 7,
   "id": "6659ac00",
   "metadata": {},
   "outputs": [
    {
     "data": {
      "text/plain": [
       "array([67, 68, 75, 79, 79, 87, 88, 90, 91, 96, 99])"
      ]
     },
     "execution_count": 7,
     "metadata": {},
     "output_type": "execute_result"
    }
   ],
   "source": [
    "import numpy as np\n",
    "np.sort(student_grades)"
   ]
  },
  {
   "cell_type": "code",
   "execution_count": 8,
   "id": "85984df0",
   "metadata": {},
   "outputs": [
    {
     "data": {
      "text/plain": [
       "11"
      ]
     },
     "execution_count": 8,
     "metadata": {},
     "output_type": "execute_result"
    }
   ],
   "source": [
    "len(student_grades)"
   ]
  },
  {
   "cell_type": "code",
   "execution_count": 9,
   "id": "240cd74d",
   "metadata": {},
   "outputs": [
    {
     "data": {
      "text/plain": [
       "87"
      ]
     },
     "execution_count": 9,
     "metadata": {},
     "output_type": "execute_result"
    }
   ],
   "source": [
    "stats.median(student_grades)"
   ]
  },
  {
   "cell_type": "code",
   "execution_count": 10,
   "id": "85e07901",
   "metadata": {},
   "outputs": [],
   "source": [
    "student_grades = [79, 87, 99, 96, 88, 79, 75, 68, 90, 91] "
   ]
  },
  {
   "cell_type": "code",
   "execution_count": 11,
   "id": "040fc4b9",
   "metadata": {},
   "outputs": [
    {
     "data": {
      "text/plain": [
       "array([68, 75, 79, 79, 87, 88, 90, 91, 96, 99])"
      ]
     },
     "execution_count": 11,
     "metadata": {},
     "output_type": "execute_result"
    }
   ],
   "source": [
    "np.sort(student_grades)"
   ]
  },
  {
   "cell_type": "code",
   "execution_count": 12,
   "id": "202813d6",
   "metadata": {},
   "outputs": [
    {
     "data": {
      "text/plain": [
       "10"
      ]
     },
     "execution_count": 12,
     "metadata": {},
     "output_type": "execute_result"
    }
   ],
   "source": [
    "len(student_grades)"
   ]
  },
  {
   "cell_type": "code",
   "execution_count": 13,
   "id": "feb66f86",
   "metadata": {},
   "outputs": [
    {
     "data": {
      "text/plain": [
       "87.5"
      ]
     },
     "execution_count": 13,
     "metadata": {},
     "output_type": "execute_result"
    }
   ],
   "source": [
    "stats.median(student_grades)"
   ]
  },
  {
   "cell_type": "code",
   "execution_count": 14,
   "id": "b7b7bf43",
   "metadata": {},
   "outputs": [],
   "source": [
    "student_grades = [79, 87, 99, 96, 88, 79, 75, 68, 90, 91] "
   ]
  },
  {
   "cell_type": "code",
   "execution_count": 15,
   "id": "a268ee5e",
   "metadata": {},
   "outputs": [
    {
     "data": {
      "text/plain": [
       "79"
      ]
     },
     "execution_count": 15,
     "metadata": {},
     "output_type": "execute_result"
    }
   ],
   "source": [
    "stats.mode(student_grades)"
   ]
  },
  {
   "cell_type": "code",
   "execution_count": 16,
   "id": "6e4f59fd",
   "metadata": {},
   "outputs": [],
   "source": [
    "student_grades = [87, 87, 99, 99, 96, 88, 79, 75, 68, 90, 91] "
   ]
  },
  {
   "cell_type": "code",
   "execution_count": 17,
   "id": "2ebf9389",
   "metadata": {},
   "outputs": [
    {
     "data": {
      "text/plain": [
       "87"
      ]
     },
     "execution_count": 17,
     "metadata": {},
     "output_type": "execute_result"
    }
   ],
   "source": [
    "stats.mode(student_grades)"
   ]
  },
  {
   "cell_type": "code",
   "execution_count": 21,
   "id": "249389ad",
   "metadata": {},
   "outputs": [
    {
     "name": "stdout",
     "output_type": "stream",
     "text": [
      "{87: 2, 99: 2, 96: 1, 88: 1, 79: 1, 75: 1, 68: 1, 90: 1, 91: 1}\n"
     ]
    }
   ],
   "source": [
    "counts_dict = {}\n",
    "for item in student_grades:\n",
    "    count_of_item = student_grades.count(item)\n",
    "    counts_dict[item] = count_of_item\n",
    "    \n",
    "print(counts_dict)"
   ]
  },
  {
   "cell_type": "code",
   "execution_count": 23,
   "id": "13b4570c",
   "metadata": {},
   "outputs": [
    {
     "name": "stdout",
     "output_type": "stream",
     "text": [
      "Values of counts in the dictionary are:  dict_values([2, 2, 1, 1, 1, 1, 1, 1, 1])\n",
      "Max vlaue in the counts is: 2\n"
     ]
    }
   ],
   "source": [
    "values = counts_dict.values()\n",
    "print(\"Values of counts in the dictionary are: \", values)\n",
    "\n",
    "max_value = max(values)\n",
    "print(\"Max vlaue in the counts is:\", max_value)"
   ]
  },
  {
   "cell_type": "code",
   "execution_count": 27,
   "id": "cfe2e8bb",
   "metadata": {},
   "outputs": [
    {
     "name": "stdout",
     "output_type": "stream",
     "text": [
      "For key:  key1 - the value is:  100\n",
      "For key:  key2 - the value is:  200\n",
      "For key:  key3 - the value is:  300\n"
     ]
    }
   ],
   "source": [
    "x = {'key1': 100, 'key2': 200 , 'key3':300}\n",
    "for key, value in x.items():\n",
    "    print(\"For key: \", key, \"- the value is: \", value)"
   ]
  },
  {
   "cell_type": "code",
   "execution_count": 29,
   "id": "e9e949e9",
   "metadata": {},
   "outputs": [
    {
     "name": "stdout",
     "output_type": "stream",
     "text": [
      "Mode:  87\n",
      "Mode:  99\n"
     ]
    }
   ],
   "source": [
    "for key, value in counts_dict.items():\n",
    "    if value == max_value:\n",
    "        print(\"Mode: \", key)"
   ]
  },
  {
   "cell_type": "markdown",
   "id": "07c62b7d",
   "metadata": {},
   "source": [
    "# Exercise"
   ]
  },
  {
   "cell_type": "markdown",
   "id": "b2ac9e41",
   "metadata": {},
   "source": [
    "1.1"
   ]
  },
  {
   "cell_type": "markdown",
   "id": "196f10bb",
   "metadata": {},
   "source": [
    "False"
   ]
  },
  {
   "cell_type": "markdown",
   "id": "c2762355",
   "metadata": {},
   "source": [
    "1.2"
   ]
  },
  {
   "cell_type": "code",
   "execution_count": 45,
   "id": "35e33ac7",
   "metadata": {},
   "outputs": [],
   "source": [
    "data = [4, 7, 5, 9, 8, 6, 7, 7, 8, 5, 6, 9, 8, 5, 8, 7, 4, 7, 3, 6, 8, 9, 7, 6, 9]"
   ]
  },
  {
   "cell_type": "code",
   "execution_count": 48,
   "id": "c6605cdd",
   "metadata": {},
   "outputs": [
    {
     "data": {
      "text/plain": [
       "array([3, 4, 4, 5, 5, 5, 6, 6, 6, 6, 7, 7, 7, 7, 7, 7, 8, 8, 8, 8, 8, 9,\n",
       "       9, 9, 9])"
      ]
     },
     "execution_count": 48,
     "metadata": {},
     "output_type": "execute_result"
    }
   ],
   "source": [
    "np.sort(data)"
   ]
  },
  {
   "cell_type": "code",
   "execution_count": 72,
   "id": "193172a8",
   "metadata": {},
   "outputs": [],
   "source": [
    "range = min(data), max(data)"
   ]
  },
  {
   "cell_type": "code",
   "execution_count": 73,
   "id": "c95a274c",
   "metadata": {},
   "outputs": [
    {
     "name": "stdout",
     "output_type": "stream",
     "text": [
      "Range = (3, 9)\n",
      "Mean = 6.72\n",
      "Median = 7\n",
      "Mode =  7\n"
     ]
    }
   ],
   "source": [
    "print (\"Range =\", (range))\n",
    "print (\"Mean =\", stats.mean(data))\n",
    "print (\"Median =\", stats.median(data))\n",
    "print (\"Mode = \", stats.mode(data))"
   ]
  },
  {
   "cell_type": "markdown",
   "id": "855e8599",
   "metadata": {},
   "source": [
    "1.3"
   ]
  },
  {
   "cell_type": "markdown",
   "id": "9de5b5b3",
   "metadata": {},
   "source": [
    "Median"
   ]
  },
  {
   "cell_type": "markdown",
   "id": "11db0671",
   "metadata": {},
   "source": [
    "1.4"
   ]
  },
  {
   "cell_type": "markdown",
   "id": "9fa9ea7e",
   "metadata": {},
   "source": [
    "You take the average of the two middle numbers"
   ]
  },
  {
   "cell_type": "markdown",
   "id": "56120fac",
   "metadata": {},
   "source": [
    "1.5"
   ]
  },
  {
   "cell_type": "markdown",
   "id": "a9ced097",
   "metadata": {},
   "source": [
    "Outliers are values that are very far from the majority values in the data set. The mean is the most sensitive to outliers."
   ]
  },
  {
   "cell_type": "code",
   "execution_count": null,
   "id": "ec285c38",
   "metadata": {},
   "outputs": [],
   "source": []
  }
 ],
 "metadata": {
  "kernelspec": {
   "display_name": "Python 3 (ipykernel)",
   "language": "python",
   "name": "python3"
  },
  "language_info": {
   "codemirror_mode": {
    "name": "ipython",
    "version": 3
   },
   "file_extension": ".py",
   "mimetype": "text/x-python",
   "name": "python",
   "nbconvert_exporter": "python",
   "pygments_lexer": "ipython3",
   "version": "3.9.7"
  }
 },
 "nbformat": 4,
 "nbformat_minor": 5
}
